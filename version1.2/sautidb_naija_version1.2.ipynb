{
 "cells": [
  {
   "cell_type": "code",
   "execution_count": 1,
   "id": "17e84226",
   "metadata": {},
   "outputs": [],
   "source": [
    "import glob\n",
    "import pandas as pd\n",
    "import matplotlib.pyplot as plt\n",
    "import json"
   ]
  },
  {
   "cell_type": "code",
   "execution_count": 2,
   "id": "b5fe020c",
   "metadata": {},
   "outputs": [],
   "source": [
    "files = glob.glob(\"sautidb_hausa_released_26032022/*.wav\", recursive=True)"
   ]
  },
  {
   "cell_type": "code",
   "execution_count": 3,
   "id": "c1998fd3",
   "metadata": {},
   "outputs": [],
   "source": [
    "fname = [f.split(\"/\")[-1] for f in files]"
   ]
  },
  {
   "cell_type": "code",
   "execution_count": 4,
   "id": "66cc3f69",
   "metadata": {},
   "outputs": [],
   "source": [
    "DATA_DIR = \"../data\"\n",
    "with open(f\"{DATA_DIR}/cmuarctic.json\", \"r\") as f:\n",
    "    sentences = json.load(f)"
   ]
  },
  {
   "cell_type": "code",
   "execution_count": 5,
   "id": "1902bed6",
   "metadata": {},
   "outputs": [
    {
     "data": {
      "text/html": [
       "<div>\n",
       "<style scoped>\n",
       "    .dataframe tbody tr th:only-of-type {\n",
       "        vertical-align: middle;\n",
       "    }\n",
       "\n",
       "    .dataframe tbody tr th {\n",
       "        vertical-align: top;\n",
       "    }\n",
       "\n",
       "    .dataframe thead th {\n",
       "        text-align: right;\n",
       "    }\n",
       "</style>\n",
       "<table border=\"1\" class=\"dataframe\">\n",
       "  <thead>\n",
       "    <tr style=\"text-align: right;\">\n",
       "      <th></th>\n",
       "      <th>filename</th>\n",
       "      <th>nativeLanguage</th>\n",
       "      <th>fluentLanguage</th>\n",
       "      <th>speakerID</th>\n",
       "      <th>gender</th>\n",
       "      <th>sentenceID</th>\n",
       "      <th>sentence</th>\n",
       "    </tr>\n",
       "  </thead>\n",
       "  <tbody>\n",
       "    <tr>\n",
       "      <th>0</th>\n",
       "      <td>HAUSA_HAUSA_1255_M_B0150.wav</td>\n",
       "      <td>HAUSA</td>\n",
       "      <td>HAUSA</td>\n",
       "      <td>1255</td>\n",
       "      <td>M</td>\n",
       "      <td>B0150</td>\n",
       "      <td>And he was filled with a strange and forebodin...</td>\n",
       "    </tr>\n",
       "    <tr>\n",
       "      <th>1</th>\n",
       "      <td>HAUSA_HAUSA_1259_M_B0208.wav</td>\n",
       "      <td>HAUSA</td>\n",
       "      <td>HAUSA</td>\n",
       "      <td>1259</td>\n",
       "      <td>M</td>\n",
       "      <td>B0208</td>\n",
       "      <td>You read the quotations in today's paper.</td>\n",
       "    </tr>\n",
       "    <tr>\n",
       "      <th>2</th>\n",
       "      <td>HAUSA_HAUSA_1249_M_A0051.wav</td>\n",
       "      <td>HAUSA</td>\n",
       "      <td>HAUSA</td>\n",
       "      <td>1249</td>\n",
       "      <td>M</td>\n",
       "      <td>A0051</td>\n",
       "      <td>The lace was of a delicate ivory color, faintl...</td>\n",
       "    </tr>\n",
       "    <tr>\n",
       "      <th>3</th>\n",
       "      <td>HAUSA_HAUSA_1253_M_B0244.wav</td>\n",
       "      <td>HAUSA</td>\n",
       "      <td>HAUSA</td>\n",
       "      <td>1253</td>\n",
       "      <td>M</td>\n",
       "      <td>B0244</td>\n",
       "      <td>You are positively soulless, he said savagely.</td>\n",
       "    </tr>\n",
       "    <tr>\n",
       "      <th>4</th>\n",
       "      <td>HAUSA_HAUSA_1253_M_A0146.wav</td>\n",
       "      <td>HAUSA</td>\n",
       "      <td>HAUSA</td>\n",
       "      <td>1253</td>\n",
       "      <td>M</td>\n",
       "      <td>A0146</td>\n",
       "      <td>Of course, that is uninteresting, she continued.</td>\n",
       "    </tr>\n",
       "  </tbody>\n",
       "</table>\n",
       "</div>"
      ],
      "text/plain": [
       "                       filename nativeLanguage fluentLanguage speakerID  \\\n",
       "0  HAUSA_HAUSA_1255_M_B0150.wav          HAUSA          HAUSA      1255   \n",
       "1  HAUSA_HAUSA_1259_M_B0208.wav          HAUSA          HAUSA      1259   \n",
       "2  HAUSA_HAUSA_1249_M_A0051.wav          HAUSA          HAUSA      1249   \n",
       "3  HAUSA_HAUSA_1253_M_B0244.wav          HAUSA          HAUSA      1253   \n",
       "4  HAUSA_HAUSA_1253_M_A0146.wav          HAUSA          HAUSA      1253   \n",
       "\n",
       "  gender sentenceID                                           sentence  \n",
       "0      M      B0150  And he was filled with a strange and forebodin...  \n",
       "1      M      B0208          You read the quotations in today's paper.  \n",
       "2      M      A0051  The lace was of a delicate ivory color, faintl...  \n",
       "3      M      B0244     You are positively soulless, he said savagely.  \n",
       "4      M      A0146   Of course, that is uninteresting, she continued.  "
      ]
     },
     "execution_count": 5,
     "metadata": {},
     "output_type": "execute_result"
    }
   ],
   "source": [
    "df = pd.DataFrame(fname, columns=[\"filename\"])\n",
    "df[\"nativeLanguage\"] = df[\"filename\"].apply(lambda x: x.split(\"_\")[0])\n",
    "df[\"fluentLanguage\"] = df[\"filename\"].apply(lambda x: x.split(\"_\")[1])\n",
    "df[\"speakerID\"] = df[\"filename\"].apply(lambda x: x.split(\"_\")[2])\n",
    "df[\"gender\"] = df[\"filename\"].apply(lambda x: x.split(\"_\")[3])\n",
    "df[\"sentenceID\"] = df[\"filename\"].apply(lambda x: x.split(\"_\")[-1].split(\".\")[0])\n",
    "df[\"sentence\"] = df[\"sentenceID\"].apply(lambda x: sentences[x.capitalize()])\n",
    "df.head()"
   ]
  },
  {
   "cell_type": "markdown",
   "id": "5f52946e",
   "metadata": {},
   "source": [
    "### Compute audio duration"
   ]
  },
  {
   "cell_type": "code",
   "execution_count": 6,
   "id": "6a5c0349",
   "metadata": {},
   "outputs": [],
   "source": [
    "import librosa"
   ]
  },
  {
   "cell_type": "code",
   "execution_count": 7,
   "id": "f4aa6ea1",
   "metadata": {},
   "outputs": [
    {
     "name": "stdout",
     "output_type": "stream",
     "text": [
      "218\n"
     ]
    },
    {
     "data": {
      "text/html": [
       "<div>\n",
       "<style scoped>\n",
       "    .dataframe tbody tr th:only-of-type {\n",
       "        vertical-align: middle;\n",
       "    }\n",
       "\n",
       "    .dataframe tbody tr th {\n",
       "        vertical-align: top;\n",
       "    }\n",
       "\n",
       "    .dataframe thead th {\n",
       "        text-align: right;\n",
       "    }\n",
       "</style>\n",
       "<table border=\"1\" class=\"dataframe\">\n",
       "  <thead>\n",
       "    <tr style=\"text-align: right;\">\n",
       "      <th></th>\n",
       "      <th>filename</th>\n",
       "      <th>nativeLanguage</th>\n",
       "      <th>fluentLanguage</th>\n",
       "      <th>speakerID</th>\n",
       "      <th>gender</th>\n",
       "      <th>sentenceID</th>\n",
       "      <th>sentence</th>\n",
       "      <th>duration</th>\n",
       "    </tr>\n",
       "  </thead>\n",
       "  <tbody>\n",
       "    <tr>\n",
       "      <th>0</th>\n",
       "      <td>HAUSA_HAUSA_1255_M_B0150.wav</td>\n",
       "      <td>HAUSA</td>\n",
       "      <td>HAUSA</td>\n",
       "      <td>1255</td>\n",
       "      <td>M</td>\n",
       "      <td>B0150</td>\n",
       "      <td>And he was filled with a strange and forebodin...</td>\n",
       "      <td>3.18</td>\n",
       "    </tr>\n",
       "    <tr>\n",
       "      <th>1</th>\n",
       "      <td>HAUSA_HAUSA_1259_M_B0208.wav</td>\n",
       "      <td>HAUSA</td>\n",
       "      <td>HAUSA</td>\n",
       "      <td>1259</td>\n",
       "      <td>M</td>\n",
       "      <td>B0208</td>\n",
       "      <td>You read the quotations in today's paper.</td>\n",
       "      <td>5.59</td>\n",
       "    </tr>\n",
       "    <tr>\n",
       "      <th>2</th>\n",
       "      <td>HAUSA_HAUSA_1249_M_A0051.wav</td>\n",
       "      <td>HAUSA</td>\n",
       "      <td>HAUSA</td>\n",
       "      <td>1249</td>\n",
       "      <td>M</td>\n",
       "      <td>A0051</td>\n",
       "      <td>The lace was of a delicate ivory color, faintl...</td>\n",
       "      <td>5.42</td>\n",
       "    </tr>\n",
       "    <tr>\n",
       "      <th>3</th>\n",
       "      <td>HAUSA_HAUSA_1253_M_B0244.wav</td>\n",
       "      <td>HAUSA</td>\n",
       "      <td>HAUSA</td>\n",
       "      <td>1253</td>\n",
       "      <td>M</td>\n",
       "      <td>B0244</td>\n",
       "      <td>You are positively soulless, he said savagely.</td>\n",
       "      <td>3.44</td>\n",
       "    </tr>\n",
       "    <tr>\n",
       "      <th>4</th>\n",
       "      <td>HAUSA_HAUSA_1253_M_A0146.wav</td>\n",
       "      <td>HAUSA</td>\n",
       "      <td>HAUSA</td>\n",
       "      <td>1253</td>\n",
       "      <td>M</td>\n",
       "      <td>A0146</td>\n",
       "      <td>Of course, that is uninteresting, she continued.</td>\n",
       "      <td>3.08</td>\n",
       "    </tr>\n",
       "  </tbody>\n",
       "</table>\n",
       "</div>"
      ],
      "text/plain": [
       "                       filename nativeLanguage fluentLanguage speakerID  \\\n",
       "0  HAUSA_HAUSA_1255_M_B0150.wav          HAUSA          HAUSA      1255   \n",
       "1  HAUSA_HAUSA_1259_M_B0208.wav          HAUSA          HAUSA      1259   \n",
       "2  HAUSA_HAUSA_1249_M_A0051.wav          HAUSA          HAUSA      1249   \n",
       "3  HAUSA_HAUSA_1253_M_B0244.wav          HAUSA          HAUSA      1253   \n",
       "4  HAUSA_HAUSA_1253_M_A0146.wav          HAUSA          HAUSA      1253   \n",
       "\n",
       "  gender sentenceID                                           sentence  \\\n",
       "0      M      B0150  And he was filled with a strange and forebodin...   \n",
       "1      M      B0208          You read the quotations in today's paper.   \n",
       "2      M      A0051  The lace was of a delicate ivory color, faintl...   \n",
       "3      M      B0244     You are positively soulless, he said savagely.   \n",
       "4      M      A0146   Of course, that is uninteresting, she continued.   \n",
       "\n",
       "  duration  \n",
       "0     3.18  \n",
       "1     5.59  \n",
       "2     5.42  \n",
       "3     3.44  \n",
       "4     3.08  "
      ]
     },
     "execution_count": 7,
     "metadata": {},
     "output_type": "execute_result"
    }
   ],
   "source": [
    "AUDIO_DIR=\"sautidb_hausa_released_26032022\"\n",
    "duration = lambda x: librosa.get_duration(filename=f\"{AUDIO_DIR}/{x}\")\n",
    "df[\"duration\"] = df[\"filename\"].apply(lambda x: f\"{duration(x):.2f}\")\n",
    "print(len(df))\n",
    "df.head()"
   ]
  },
  {
   "cell_type": "code",
   "execution_count": 8,
   "id": "3ef4fa93",
   "metadata": {},
   "outputs": [],
   "source": [
    "df.to_csv(\"audio_hausa_metadata.csv\", index=None)"
   ]
  },
  {
   "cell_type": "markdown",
   "id": "e4a68a1b",
   "metadata": {},
   "source": [
    "### Combine metadata"
   ]
  },
  {
   "cell_type": "code",
   "execution_count": 9,
   "id": "4fd7ff8d",
   "metadata": {},
   "outputs": [
    {
     "data": {
      "text/plain": [
       "919"
      ]
     },
     "execution_count": 9,
     "metadata": {},
     "output_type": "execute_result"
    }
   ],
   "source": [
    "old_version_meta = pd.read_csv(f\"{DATA_DIR}/sautidb_v1.1/audio_metadata.csv\")\n",
    "len(old_version_meta)"
   ]
  },
  {
   "cell_type": "code",
   "execution_count": 10,
   "id": "61972108",
   "metadata": {},
   "outputs": [
    {
     "data": {
      "text/html": [
       "<div>\n",
       "<style scoped>\n",
       "    .dataframe tbody tr th:only-of-type {\n",
       "        vertical-align: middle;\n",
       "    }\n",
       "\n",
       "    .dataframe tbody tr th {\n",
       "        vertical-align: top;\n",
       "    }\n",
       "\n",
       "    .dataframe thead th {\n",
       "        text-align: right;\n",
       "    }\n",
       "</style>\n",
       "<table border=\"1\" class=\"dataframe\">\n",
       "  <thead>\n",
       "    <tr style=\"text-align: right;\">\n",
       "      <th></th>\n",
       "      <th>filename</th>\n",
       "      <th>nativeLanguage</th>\n",
       "      <th>fluentLanguage</th>\n",
       "      <th>speakerID</th>\n",
       "      <th>gender</th>\n",
       "      <th>sentenceID</th>\n",
       "      <th>sentence</th>\n",
       "      <th>duration</th>\n",
       "    </tr>\n",
       "  </thead>\n",
       "  <tbody>\n",
       "    <tr>\n",
       "      <th>0</th>\n",
       "      <td>YORUBA_YORUBA_0230_M_A0194.wav</td>\n",
       "      <td>YORUBA</td>\n",
       "      <td>YORUBA</td>\n",
       "      <td>230</td>\n",
       "      <td>M</td>\n",
       "      <td>A0194</td>\n",
       "      <td>He drank of the water cautiously.</td>\n",
       "      <td>1.73</td>\n",
       "    </tr>\n",
       "    <tr>\n",
       "      <th>1</th>\n",
       "      <td>YORUBA_YORUBA_0006_M_B0354.wav</td>\n",
       "      <td>YORUBA</td>\n",
       "      <td>YORUBA</td>\n",
       "      <td>6</td>\n",
       "      <td>M</td>\n",
       "      <td>B0354</td>\n",
       "      <td>It's that much junk.</td>\n",
       "      <td>1.67</td>\n",
       "    </tr>\n",
       "    <tr>\n",
       "      <th>2</th>\n",
       "      <td>YORUBA_YORUBA_0006_M_B0383.wav</td>\n",
       "      <td>YORUBA</td>\n",
       "      <td>YORUBA</td>\n",
       "      <td>6</td>\n",
       "      <td>M</td>\n",
       "      <td>B0383</td>\n",
       "      <td>A bush chief had died a natural death.</td>\n",
       "      <td>2.96</td>\n",
       "    </tr>\n",
       "    <tr>\n",
       "      <th>3</th>\n",
       "      <td>YORUBA_YORUBA_0048_M_B0151.wav</td>\n",
       "      <td>YORUBA</td>\n",
       "      <td>YORUBA</td>\n",
       "      <td>48</td>\n",
       "      <td>M</td>\n",
       "      <td>B0151</td>\n",
       "      <td>It was steel, a fisher trap.</td>\n",
       "      <td>3.13</td>\n",
       "    </tr>\n",
       "    <tr>\n",
       "      <th>4</th>\n",
       "      <td>EDO_OTHERS_0175_F_A0186.wav</td>\n",
       "      <td>EDO</td>\n",
       "      <td>OTHERS</td>\n",
       "      <td>175</td>\n",
       "      <td>F</td>\n",
       "      <td>A0186</td>\n",
       "      <td>Like a flash he launched himself into the feat...</td>\n",
       "      <td>4.27</td>\n",
       "    </tr>\n",
       "  </tbody>\n",
       "</table>\n",
       "</div>"
      ],
      "text/plain": [
       "                         filename nativeLanguage fluentLanguage speakerID  \\\n",
       "0  YORUBA_YORUBA_0230_M_A0194.wav         YORUBA         YORUBA       230   \n",
       "1  YORUBA_YORUBA_0006_M_B0354.wav         YORUBA         YORUBA         6   \n",
       "2  YORUBA_YORUBA_0006_M_B0383.wav         YORUBA         YORUBA         6   \n",
       "3  YORUBA_YORUBA_0048_M_B0151.wav         YORUBA         YORUBA        48   \n",
       "4     EDO_OTHERS_0175_F_A0186.wav            EDO         OTHERS       175   \n",
       "\n",
       "  gender sentenceID                                           sentence  \\\n",
       "0      M      A0194                  He drank of the water cautiously.   \n",
       "1      M      B0354                               It's that much junk.   \n",
       "2      M      B0383             A bush chief had died a natural death.   \n",
       "3      M      B0151                       It was steel, a fisher trap.   \n",
       "4      F      A0186  Like a flash he launched himself into the feat...   \n",
       "\n",
       "  duration  \n",
       "0     1.73  \n",
       "1     1.67  \n",
       "2     2.96  \n",
       "3     3.13  \n",
       "4     4.27  "
      ]
     },
     "execution_count": 10,
     "metadata": {},
     "output_type": "execute_result"
    }
   ],
   "source": [
    "new_version_meta = pd.concat([old_version_meta, df])\n",
    "new_version_meta.head()"
   ]
  },
  {
   "cell_type": "code",
   "execution_count": 11,
   "id": "24b46594",
   "metadata": {},
   "outputs": [
    {
     "data": {
      "text/plain": [
       "1137"
      ]
     },
     "execution_count": 11,
     "metadata": {},
     "output_type": "execute_result"
    }
   ],
   "source": [
    "len(new_version_meta)"
   ]
  },
  {
   "cell_type": "code",
   "execution_count": 12,
   "id": "2e44b3ae",
   "metadata": {},
   "outputs": [],
   "source": [
    "new_version_meta.to_csv(\"audio_metadata.csv\", index=None)\n",
    "new_version_meta.to_csv(f\"{DATA_DIR}/sautidb_v1.2/audio_metadata.csv\", index=None)"
   ]
  },
  {
   "cell_type": "markdown",
   "id": "b8d7203e",
   "metadata": {},
   "source": [
    "## Analysis"
   ]
  },
  {
   "cell_type": "code",
   "execution_count": 16,
   "id": "b2fea86d",
   "metadata": {},
   "outputs": [
    {
     "data": {
      "text/plain": [
       "Text(0.5, 1.0, 'Sentence ID distribution')"
      ]
     },
     "execution_count": 16,
     "metadata": {},
     "output_type": "execute_result"
    },
    {
     "data": {
      "image/png": "[encoded data removed]",
      "text/plain": [
       "<Figure size 720x576 with 1 Axes>"
      ]
     },
     "metadata": {
      "needs_background": "light"
     },
     "output_type": "display_data"
    }
   ],
   "source": [
    "new_version_meta.sentence.value_counts().plot(kind='bar', figsize=(10, 8), xticks=[])\n",
    "plt.title(\"Sentence ID distribution\")"
   ]
  },
  {
   "cell_type": "code",
   "execution_count": 17,
   "id": "0c93903a",
   "metadata": {},
   "outputs": [
    {
     "data": {
      "text/plain": [
       "Text(0.5, 1.0, 'Unique speaker ids')"
      ]
     },
     "execution_count": 17,
     "metadata": {},
     "output_type": "execute_result"
    },
    {
     "data": {
      "image/png": "[encoded data removed]",
      "text/plain": [
       "<Figure size 720x576 with 1 Axes>"
      ]
     },
     "metadata": {
      "needs_background": "light"
     },
     "output_type": "display_data"
    }
   ],
   "source": [
    "new_version_meta.speakerID.value_counts().plot(kind='bar', figsize=(10, 8), xticks=[])\n",
    "plt.title(\"Unique speaker ids\")"
   ]
  },
  {
   "cell_type": "code",
   "execution_count": 18,
   "id": "14e5c219",
   "metadata": {},
   "outputs": [
    {
     "data": {
      "text/plain": [
       "Text(0.5, 1.0, 'Gender distribution')"
      ]
     },
     "execution_count": 18,
     "metadata": {},
     "output_type": "execute_result"
    },
    {
     "data": {
      "image/png": "[encoded data removed]",
      "text/plain": [
       "<Figure size 720x576 with 1 Axes>"
      ]
     },
     "metadata": {
      "needs_background": "light"
     },
     "output_type": "display_data"
    }
   ],
   "source": [
    "new_version_meta.gender.value_counts().plot(kind='bar', figsize=(10, 8))\n",
    "plt.title(\"Gender distribution\")"
   ]
  },
  {
   "cell_type": "code",
   "execution_count": 19,
   "id": "1d48973b",
   "metadata": {},
   "outputs": [
    {
     "data": {
      "text/plain": [
       "Text(0.5, 1.0, 'Native Language distribution')"
      ]
     },
     "execution_count": 19,
     "metadata": {},
     "output_type": "execute_result"
    },
    {
     "data": {
      "image/png": "[encoded data removed]",
      "text/plain": [
       "<Figure size 720x576 with 1 Axes>"
      ]
     },
     "metadata": {
      "needs_background": "light"
     },
     "output_type": "display_data"
    }
   ],
   "source": [
    "new_version_meta.nativeLanguage.value_counts().plot(kind='bar', figsize=(10, 8))\n",
    "plt.title(\"Native Language distribution\")"
   ]
  },
  {
   "cell_type": "code",
   "execution_count": 20,
   "id": "0e753dfd",
   "metadata": {},
   "outputs": [
    {
     "data": {
      "text/plain": [
       "Text(0.5, 1.0, 'Fluent Language distribution')"
      ]
     },
     "execution_count": 20,
     "metadata": {},
     "output_type": "execute_result"
    },
    {
     "data": {
      "image/png": "[encoded data removed]",
      "text/plain": [
       "<Figure size 720x576 with 1 Axes>"
      ]
     },
     "metadata": {
      "needs_background": "light"
     },
     "output_type": "display_data"
    }
   ],
   "source": [
    "new_version_meta.fluentLanguage.value_counts().plot(kind='bar', figsize=(10, 8))\n",
    "plt.title(\"Fluent Language distribution\")"
   ]
  },
  {
   "cell_type": "code",
   "execution_count": null,
   "id": "8c20919a",
   "metadata": {},
   "outputs": [],
   "source": []
  },
  {
   "cell_type": "code",
   "execution_count": null,
   "id": "b4280ef1",
   "metadata": {},
   "outputs": [],
   "source": []
  }
 ],
 "metadata": {
  "kernelspec": {
   "display_name": "Python 3 (ipykernel)",
   "language": "python",
   "name": "python3"
  },
  "language_info": {
   "codemirror_mode": {
    "name": "ipython",
    "version": 3
   },
   "file_extension": ".py",
   "mimetype": "text/x-python",
   "name": "python",
   "nbconvert_exporter": "python",
   "pygments_lexer": "ipython3",
   "version": "3.8.0"
  }
 },
 "nbformat": 4,
 "nbformat_minor": 5
}
