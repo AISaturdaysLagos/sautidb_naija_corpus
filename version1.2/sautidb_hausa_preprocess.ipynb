{
 "cells": [
  {
   "cell_type": "code",
   "execution_count": 1,
   "id": "f973f209",
   "metadata": {},
   "outputs": [],
   "source": [
    "import pandas as pd"
   ]
  },
  {
   "cell_type": "code",
   "execution_count": 2,
   "id": "124ce0e2",
   "metadata": {},
   "outputs": [],
   "source": [
    "METADATA = 'sautidb_hausa_metadata.csv'\n",
    "df = pd.read_csv(METADATA)"
   ]
  },
  {
   "cell_type": "markdown",
   "id": "e22a509c",
   "metadata": {},
   "source": [
    "### Prepare filename for download"
   ]
  },
  {
   "cell_type": "code",
   "execution_count": 3,
   "id": "3f0dc663",
   "metadata": {},
   "outputs": [
    {
     "name": "stdout",
     "output_type": "stream",
     "text": [
      "221\n"
     ]
    },
    {
     "data": {
      "text/html": [
       "<div>\n",
       "<style scoped>\n",
       "    .dataframe tbody tr th:only-of-type {\n",
       "        vertical-align: middle;\n",
       "    }\n",
       "\n",
       "    .dataframe tbody tr th {\n",
       "        vertical-align: top;\n",
       "    }\n",
       "\n",
       "    .dataframe thead th {\n",
       "        text-align: right;\n",
       "    }\n",
       "</style>\n",
       "<table border=\"1\" class=\"dataframe\">\n",
       "  <thead>\n",
       "    <tr style=\"text-align: right;\">\n",
       "      <th></th>\n",
       "      <th>userID</th>\n",
       "      <th>sentence</th>\n",
       "      <th>nativeLanguage</th>\n",
       "      <th>fluentLanguage</th>\n",
       "      <th>file_url</th>\n",
       "      <th>gender</th>\n",
       "    </tr>\n",
       "  </thead>\n",
       "  <tbody>\n",
       "    <tr>\n",
       "      <th>0</th>\n",
       "      <td>U2FsdGVkX199GtRKC0wMQsiY7dDBqn3VGWqZanl3ViY7gH...</td>\n",
       "      <td>arctic_b0473</td>\n",
       "      <td>Hausa</td>\n",
       "      <td>Portuguese</td>\n",
       "      <td>1633373369566_REC1633373367317.wav</td>\n",
       "      <td>m</td>\n",
       "    </tr>\n",
       "    <tr>\n",
       "      <th>1</th>\n",
       "      <td>U2FsdGVkX18pehkcch3q3J4u/4k+jPHvhO8UgSKH5u7sic...</td>\n",
       "      <td>arctic_a0588</td>\n",
       "      <td>Hausa</td>\n",
       "      <td>Hausa</td>\n",
       "      <td>1633466586721_REC1633466576008.wav</td>\n",
       "      <td>m</td>\n",
       "    </tr>\n",
       "    <tr>\n",
       "      <th>2</th>\n",
       "      <td>U2FsdGVkX18pehkcch3q3J4u/4k+jPHvhO8UgSKH5u7sic...</td>\n",
       "      <td>arctic_a0054</td>\n",
       "      <td>Hausa</td>\n",
       "      <td>Hausa</td>\n",
       "      <td>1633466618953_REC1633466611136.wav</td>\n",
       "      <td>m</td>\n",
       "    </tr>\n",
       "    <tr>\n",
       "      <th>3</th>\n",
       "      <td>U2FsdGVkX18pehkcch3q3J4u/4k+jPHvhO8UgSKH5u7sic...</td>\n",
       "      <td>arctic_b0092</td>\n",
       "      <td>Hausa</td>\n",
       "      <td>Hausa</td>\n",
       "      <td>1633466636397_REC1633466629517.wav</td>\n",
       "      <td>m</td>\n",
       "    </tr>\n",
       "    <tr>\n",
       "      <th>4</th>\n",
       "      <td>U2FsdGVkX18pehkcch3q3J4u/4k+jPHvhO8UgSKH5u7sic...</td>\n",
       "      <td>arctic_a0195</td>\n",
       "      <td>Hausa</td>\n",
       "      <td>Hausa</td>\n",
       "      <td>1633466688275_REC1633466682197.wav</td>\n",
       "      <td>m</td>\n",
       "    </tr>\n",
       "  </tbody>\n",
       "</table>\n",
       "</div>"
      ],
      "text/plain": [
       "                                              userID      sentence  \\\n",
       "0  U2FsdGVkX199GtRKC0wMQsiY7dDBqn3VGWqZanl3ViY7gH...  arctic_b0473   \n",
       "1  U2FsdGVkX18pehkcch3q3J4u/4k+jPHvhO8UgSKH5u7sic...  arctic_a0588   \n",
       "2  U2FsdGVkX18pehkcch3q3J4u/4k+jPHvhO8UgSKH5u7sic...  arctic_a0054   \n",
       "3  U2FsdGVkX18pehkcch3q3J4u/4k+jPHvhO8UgSKH5u7sic...  arctic_b0092   \n",
       "4  U2FsdGVkX18pehkcch3q3J4u/4k+jPHvhO8UgSKH5u7sic...  arctic_a0195   \n",
       "\n",
       "  nativeLanguage fluentLanguage                            file_url gender  \n",
       "0          Hausa     Portuguese  1633373369566_REC1633373367317.wav      m  \n",
       "1          Hausa          Hausa  1633466586721_REC1633466576008.wav      m  \n",
       "2          Hausa          Hausa  1633466618953_REC1633466611136.wav      m  \n",
       "3          Hausa          Hausa  1633466636397_REC1633466629517.wav      m  \n",
       "4          Hausa          Hausa  1633466688275_REC1633466682197.wav      m  "
      ]
     },
     "execution_count": 3,
     "metadata": {},
     "output_type": "execute_result"
    }
   ],
   "source": [
    "df_filter = df[df[\"nationality\"] == \"Nigerian\"]\n",
    "df_filter = df_filter[df_filter[\"nativeLanguage\"] == \"Hausa\"]\n",
    "df_filter = df_filter[df_filter[\"status\"] == \"Good\"]\n",
    "df_filter = df_filter[[\"userID\", \"sentence\", \"nativeLanguage\", \"fluentLanguage\", \"file_url\", \"gender\"]]\n",
    "print(len(df_filter))\n",
    "df_filter.head()"
   ]
  },
  {
   "cell_type": "code",
   "execution_count": 4,
   "id": "89e8d6a9",
   "metadata": {},
   "outputs": [],
   "source": [
    "df_filter[\"file_url\"].to_csv(\"sautidb_hausa_filename.csv\", index=None, header=None)"
   ]
  },
  {
   "cell_type": "markdown",
   "id": "9b398c65",
   "metadata": {},
   "source": [
    "### Generate UserID"
   ]
  },
  {
   "cell_type": "code",
   "execution_count": 5,
   "id": "ac4ecd11",
   "metadata": {},
   "outputs": [],
   "source": [
    "## we should adopt a standard for generating short userID. \n",
    "## idea 1: create a userID mapping using the raw metadata. \n",
    "## sort this by the date of creation to ensure that the mapping can only grow in length and userID=0001 will always be the same\n",
    "## idea 2: use hash function to generate shorter userID. \n",
    "\n",
    "i=1241 # max userID in version1.0\n",
    "user_ids = df_filter['userID'].to_list()\n",
    "user_id_map = {}\n",
    "for user in user_ids:\n",
    "    new_id = str(i + 1).zfill(4)\n",
    "    if user not in user_id_map:\n",
    "        user_id_map[user] = new_id\n",
    "        i += 1"
   ]
  },
  {
   "cell_type": "code",
   "execution_count": 6,
   "id": "2e386608",
   "metadata": {},
   "outputs": [
    {
     "data": {
      "text/html": [
       "<div>\n",
       "<style scoped>\n",
       "    .dataframe tbody tr th:only-of-type {\n",
       "        vertical-align: middle;\n",
       "    }\n",
       "\n",
       "    .dataframe tbody tr th {\n",
       "        vertical-align: top;\n",
       "    }\n",
       "\n",
       "    .dataframe thead th {\n",
       "        text-align: right;\n",
       "    }\n",
       "</style>\n",
       "<table border=\"1\" class=\"dataframe\">\n",
       "  <thead>\n",
       "    <tr style=\"text-align: right;\">\n",
       "      <th></th>\n",
       "      <th>userID</th>\n",
       "      <th>sentence</th>\n",
       "      <th>nativeLanguage</th>\n",
       "      <th>fluentLanguage</th>\n",
       "      <th>file_url</th>\n",
       "      <th>gender</th>\n",
       "      <th>speaker_id</th>\n",
       "    </tr>\n",
       "  </thead>\n",
       "  <tbody>\n",
       "    <tr>\n",
       "      <th>0</th>\n",
       "      <td>U2FsdGVkX199GtRKC0wMQsiY7dDBqn3VGWqZanl3ViY7gH...</td>\n",
       "      <td>arctic_b0473</td>\n",
       "      <td>Hausa</td>\n",
       "      <td>Portuguese</td>\n",
       "      <td>1633373369566_REC1633373367317.wav</td>\n",
       "      <td>m</td>\n",
       "      <td>1242</td>\n",
       "    </tr>\n",
       "    <tr>\n",
       "      <th>1</th>\n",
       "      <td>U2FsdGVkX18pehkcch3q3J4u/4k+jPHvhO8UgSKH5u7sic...</td>\n",
       "      <td>arctic_a0588</td>\n",
       "      <td>Hausa</td>\n",
       "      <td>Hausa</td>\n",
       "      <td>1633466586721_REC1633466576008.wav</td>\n",
       "      <td>m</td>\n",
       "      <td>1243</td>\n",
       "    </tr>\n",
       "    <tr>\n",
       "      <th>2</th>\n",
       "      <td>U2FsdGVkX18pehkcch3q3J4u/4k+jPHvhO8UgSKH5u7sic...</td>\n",
       "      <td>arctic_a0054</td>\n",
       "      <td>Hausa</td>\n",
       "      <td>Hausa</td>\n",
       "      <td>1633466618953_REC1633466611136.wav</td>\n",
       "      <td>m</td>\n",
       "      <td>1243</td>\n",
       "    </tr>\n",
       "    <tr>\n",
       "      <th>3</th>\n",
       "      <td>U2FsdGVkX18pehkcch3q3J4u/4k+jPHvhO8UgSKH5u7sic...</td>\n",
       "      <td>arctic_b0092</td>\n",
       "      <td>Hausa</td>\n",
       "      <td>Hausa</td>\n",
       "      <td>1633466636397_REC1633466629517.wav</td>\n",
       "      <td>m</td>\n",
       "      <td>1243</td>\n",
       "    </tr>\n",
       "    <tr>\n",
       "      <th>4</th>\n",
       "      <td>U2FsdGVkX18pehkcch3q3J4u/4k+jPHvhO8UgSKH5u7sic...</td>\n",
       "      <td>arctic_a0195</td>\n",
       "      <td>Hausa</td>\n",
       "      <td>Hausa</td>\n",
       "      <td>1633466688275_REC1633466682197.wav</td>\n",
       "      <td>m</td>\n",
       "      <td>1243</td>\n",
       "    </tr>\n",
       "  </tbody>\n",
       "</table>\n",
       "</div>"
      ],
      "text/plain": [
       "                                              userID      sentence  \\\n",
       "0  U2FsdGVkX199GtRKC0wMQsiY7dDBqn3VGWqZanl3ViY7gH...  arctic_b0473   \n",
       "1  U2FsdGVkX18pehkcch3q3J4u/4k+jPHvhO8UgSKH5u7sic...  arctic_a0588   \n",
       "2  U2FsdGVkX18pehkcch3q3J4u/4k+jPHvhO8UgSKH5u7sic...  arctic_a0054   \n",
       "3  U2FsdGVkX18pehkcch3q3J4u/4k+jPHvhO8UgSKH5u7sic...  arctic_b0092   \n",
       "4  U2FsdGVkX18pehkcch3q3J4u/4k+jPHvhO8UgSKH5u7sic...  arctic_a0195   \n",
       "\n",
       "  nativeLanguage fluentLanguage                            file_url gender  \\\n",
       "0          Hausa     Portuguese  1633373369566_REC1633373367317.wav      m   \n",
       "1          Hausa          Hausa  1633466586721_REC1633466576008.wav      m   \n",
       "2          Hausa          Hausa  1633466618953_REC1633466611136.wav      m   \n",
       "3          Hausa          Hausa  1633466636397_REC1633466629517.wav      m   \n",
       "4          Hausa          Hausa  1633466688275_REC1633466682197.wav      m   \n",
       "\n",
       "  speaker_id  \n",
       "0       1242  \n",
       "1       1243  \n",
       "2       1243  \n",
       "3       1243  \n",
       "4       1243  "
      ]
     },
     "execution_count": 6,
     "metadata": {},
     "output_type": "execute_result"
    }
   ],
   "source": [
    "df_filter.loc[:, 'speaker_id'] = df_filter['userID'].apply(lambda x: str( user_id_map[x]))\n",
    "df_filter.head()"
   ]
  },
  {
   "cell_type": "code",
   "execution_count": 7,
   "id": "b41ae0b8",
   "metadata": {},
   "outputs": [
    {
     "data": {
      "text/plain": [
       "('1242', '1260')"
      ]
     },
     "execution_count": 7,
     "metadata": {},
     "output_type": "execute_result"
    }
   ],
   "source": [
    "df_filter[\"speaker_id\"].min(), df_filter[\"speaker_id\"].max()"
   ]
  },
  {
   "cell_type": "markdown",
   "id": "b6832411",
   "metadata": {},
   "source": [
    "## Remove duplicates"
   ]
  },
  {
   "cell_type": "code",
   "execution_count": 8,
   "id": "051b6579",
   "metadata": {},
   "outputs": [
    {
     "name": "stdout",
     "output_type": "stream",
     "text": [
      "3\n"
     ]
    },
    {
     "data": {
      "text/html": [
       "<div>\n",
       "<style scoped>\n",
       "    .dataframe tbody tr th:only-of-type {\n",
       "        vertical-align: middle;\n",
       "    }\n",
       "\n",
       "    .dataframe tbody tr th {\n",
       "        vertical-align: top;\n",
       "    }\n",
       "\n",
       "    .dataframe thead th {\n",
       "        text-align: right;\n",
       "    }\n",
       "</style>\n",
       "<table border=\"1\" class=\"dataframe\">\n",
       "  <thead>\n",
       "    <tr style=\"text-align: right;\">\n",
       "      <th></th>\n",
       "      <th>userID</th>\n",
       "      <th>sentence</th>\n",
       "      <th>nativeLanguage</th>\n",
       "      <th>fluentLanguage</th>\n",
       "      <th>file_url</th>\n",
       "      <th>gender</th>\n",
       "      <th>speaker_id</th>\n",
       "    </tr>\n",
       "  </thead>\n",
       "  <tbody>\n",
       "    <tr>\n",
       "      <th>36</th>\n",
       "      <td>U2FsdGVkX1/kzzIeHwiMGpvINdDs2CWlTOFN+kRNWsKn6D...</td>\n",
       "      <td>arctic_a0058</td>\n",
       "      <td>Hausa</td>\n",
       "      <td>Hausa</td>\n",
       "      <td>1633478265474_REC1633478249177.wav</td>\n",
       "      <td>m</td>\n",
       "      <td>1247</td>\n",
       "    </tr>\n",
       "    <tr>\n",
       "      <th>64</th>\n",
       "      <td>U2FsdGVkX1/j0D4VVLDj0ioPS5NCP1QLEA9YPrCiX69T/Y...</td>\n",
       "      <td>arctic_a0402</td>\n",
       "      <td>Hausa</td>\n",
       "      <td>Hausa</td>\n",
       "      <td>1633487005094_REC1633486998749.wav</td>\n",
       "      <td>m</td>\n",
       "      <td>1249</td>\n",
       "    </tr>\n",
       "    <tr>\n",
       "      <th>235</th>\n",
       "      <td>U2FsdGVkX18ARMNcf5gKXyLaDqKD9IIrPFCyWV6Ct7orgW...</td>\n",
       "      <td>arctic_b0488</td>\n",
       "      <td>Hausa</td>\n",
       "      <td>Hausa</td>\n",
       "      <td>1633527559860_REC1633527542862.wav</td>\n",
       "      <td>m</td>\n",
       "      <td>1256</td>\n",
       "    </tr>\n",
       "  </tbody>\n",
       "</table>\n",
       "</div>"
      ],
      "text/plain": [
       "                                                userID      sentence  \\\n",
       "36   U2FsdGVkX1/kzzIeHwiMGpvINdDs2CWlTOFN+kRNWsKn6D...  arctic_a0058   \n",
       "64   U2FsdGVkX1/j0D4VVLDj0ioPS5NCP1QLEA9YPrCiX69T/Y...  arctic_a0402   \n",
       "235  U2FsdGVkX18ARMNcf5gKXyLaDqKD9IIrPFCyWV6Ct7orgW...  arctic_b0488   \n",
       "\n",
       "    nativeLanguage fluentLanguage                            file_url gender  \\\n",
       "36           Hausa          Hausa  1633478265474_REC1633478249177.wav      m   \n",
       "64           Hausa          Hausa  1633487005094_REC1633486998749.wav      m   \n",
       "235          Hausa          Hausa  1633527559860_REC1633527542862.wav      m   \n",
       "\n",
       "    speaker_id  \n",
       "36        1247  \n",
       "64        1249  \n",
       "235       1256  "
      ]
     },
     "execution_count": 8,
     "metadata": {},
     "output_type": "execute_result"
    }
   ],
   "source": [
    "duplicates = df_filter[df_filter.duplicated(subset=['speaker_id','sentence'], keep='first')]\n",
    "print(len(duplicates))\n",
    "duplicates.head()"
   ]
  },
  {
   "cell_type": "code",
   "execution_count": 9,
   "id": "ba3e39c9",
   "metadata": {},
   "outputs": [
    {
     "data": {
      "text/plain": [
       "218"
      ]
     },
     "execution_count": 9,
     "metadata": {},
     "output_type": "execute_result"
    }
   ],
   "source": [
    "df_filter = df_filter.drop(duplicates.index)\n",
    "len(df_filter)"
   ]
  },
  {
   "cell_type": "markdown",
   "id": "54a2199e",
   "metadata": {},
   "source": [
    "### Prepare filename for release"
   ]
  },
  {
   "cell_type": "code",
   "execution_count": 10,
   "id": "042ff2b5",
   "metadata": {},
   "outputs": [
    {
     "data": {
      "text/html": [
       "<div>\n",
       "<style scoped>\n",
       "    .dataframe tbody tr th:only-of-type {\n",
       "        vertical-align: middle;\n",
       "    }\n",
       "\n",
       "    .dataframe tbody tr th {\n",
       "        vertical-align: top;\n",
       "    }\n",
       "\n",
       "    .dataframe thead th {\n",
       "        text-align: right;\n",
       "    }\n",
       "</style>\n",
       "<table border=\"1\" class=\"dataframe\">\n",
       "  <thead>\n",
       "    <tr style=\"text-align: right;\">\n",
       "      <th></th>\n",
       "      <th>userID</th>\n",
       "      <th>sentence</th>\n",
       "      <th>nativeLanguage</th>\n",
       "      <th>fluentLanguage</th>\n",
       "      <th>file_url</th>\n",
       "      <th>gender</th>\n",
       "      <th>speaker_id</th>\n",
       "      <th>sentence_id_short</th>\n",
       "    </tr>\n",
       "  </thead>\n",
       "  <tbody>\n",
       "    <tr>\n",
       "      <th>0</th>\n",
       "      <td>U2FsdGVkX199GtRKC0wMQsiY7dDBqn3VGWqZanl3ViY7gH...</td>\n",
       "      <td>arctic_b0473</td>\n",
       "      <td>HAUSA</td>\n",
       "      <td>PORTUGUESE</td>\n",
       "      <td>1633373369566_REC1633373367317.wav</td>\n",
       "      <td>M</td>\n",
       "      <td>1242</td>\n",
       "      <td>B0473</td>\n",
       "    </tr>\n",
       "    <tr>\n",
       "      <th>1</th>\n",
       "      <td>U2FsdGVkX18pehkcch3q3J4u/4k+jPHvhO8UgSKH5u7sic...</td>\n",
       "      <td>arctic_a0588</td>\n",
       "      <td>HAUSA</td>\n",
       "      <td>HAUSA</td>\n",
       "      <td>1633466586721_REC1633466576008.wav</td>\n",
       "      <td>M</td>\n",
       "      <td>1243</td>\n",
       "      <td>A0588</td>\n",
       "    </tr>\n",
       "    <tr>\n",
       "      <th>2</th>\n",
       "      <td>U2FsdGVkX18pehkcch3q3J4u/4k+jPHvhO8UgSKH5u7sic...</td>\n",
       "      <td>arctic_a0054</td>\n",
       "      <td>HAUSA</td>\n",
       "      <td>HAUSA</td>\n",
       "      <td>1633466618953_REC1633466611136.wav</td>\n",
       "      <td>M</td>\n",
       "      <td>1243</td>\n",
       "      <td>A0054</td>\n",
       "    </tr>\n",
       "    <tr>\n",
       "      <th>3</th>\n",
       "      <td>U2FsdGVkX18pehkcch3q3J4u/4k+jPHvhO8UgSKH5u7sic...</td>\n",
       "      <td>arctic_b0092</td>\n",
       "      <td>HAUSA</td>\n",
       "      <td>HAUSA</td>\n",
       "      <td>1633466636397_REC1633466629517.wav</td>\n",
       "      <td>M</td>\n",
       "      <td>1243</td>\n",
       "      <td>B0092</td>\n",
       "    </tr>\n",
       "    <tr>\n",
       "      <th>4</th>\n",
       "      <td>U2FsdGVkX18pehkcch3q3J4u/4k+jPHvhO8UgSKH5u7sic...</td>\n",
       "      <td>arctic_a0195</td>\n",
       "      <td>HAUSA</td>\n",
       "      <td>HAUSA</td>\n",
       "      <td>1633466688275_REC1633466682197.wav</td>\n",
       "      <td>M</td>\n",
       "      <td>1243</td>\n",
       "      <td>A0195</td>\n",
       "    </tr>\n",
       "  </tbody>\n",
       "</table>\n",
       "</div>"
      ],
      "text/plain": [
       "                                              userID      sentence  \\\n",
       "0  U2FsdGVkX199GtRKC0wMQsiY7dDBqn3VGWqZanl3ViY7gH...  arctic_b0473   \n",
       "1  U2FsdGVkX18pehkcch3q3J4u/4k+jPHvhO8UgSKH5u7sic...  arctic_a0588   \n",
       "2  U2FsdGVkX18pehkcch3q3J4u/4k+jPHvhO8UgSKH5u7sic...  arctic_a0054   \n",
       "3  U2FsdGVkX18pehkcch3q3J4u/4k+jPHvhO8UgSKH5u7sic...  arctic_b0092   \n",
       "4  U2FsdGVkX18pehkcch3q3J4u/4k+jPHvhO8UgSKH5u7sic...  arctic_a0195   \n",
       "\n",
       "  nativeLanguage fluentLanguage                            file_url gender  \\\n",
       "0          HAUSA     PORTUGUESE  1633373369566_REC1633373367317.wav      M   \n",
       "1          HAUSA          HAUSA  1633466586721_REC1633466576008.wav      M   \n",
       "2          HAUSA          HAUSA  1633466618953_REC1633466611136.wav      M   \n",
       "3          HAUSA          HAUSA  1633466636397_REC1633466629517.wav      M   \n",
       "4          HAUSA          HAUSA  1633466688275_REC1633466682197.wav      M   \n",
       "\n",
       "  speaker_id sentence_id_short  \n",
       "0       1242             B0473  \n",
       "1       1243             A0588  \n",
       "2       1243             A0054  \n",
       "3       1243             B0092  \n",
       "4       1243             A0195  "
      ]
     },
     "execution_count": 10,
     "metadata": {},
     "output_type": "execute_result"
    }
   ],
   "source": [
    "df_filter['fluentLanguage'] = df_filter['fluentLanguage'].apply(lambda x: \"\".join(x).upper())\n",
    "df_filter['nativeLanguage'] = df_filter['nativeLanguage'].apply(lambda x: \"\".join(x).upper())\n",
    "df_filter['gender'] = df_filter['gender'].apply(lambda x: x.upper())\n",
    "df_filter['sentence_id_short'] = df_filter.sentence.apply(lambda x: x.split('_')[-1].capitalize())\n",
    "df_filter.head()"
   ]
  },
  {
   "cell_type": "markdown",
   "id": "c3dcbcbd",
   "metadata": {},
   "source": [
    "**Filename structure: nativeLanguage_fluentLanguage_speakerID_gender_sentenceID.wav**"
   ]
  },
  {
   "cell_type": "code",
   "execution_count": 11,
   "id": "f127c963",
   "metadata": {},
   "outputs": [
    {
     "data": {
      "text/html": [
       "<div>\n",
       "<style scoped>\n",
       "    .dataframe tbody tr th:only-of-type {\n",
       "        vertical-align: middle;\n",
       "    }\n",
       "\n",
       "    .dataframe tbody tr th {\n",
       "        vertical-align: top;\n",
       "    }\n",
       "\n",
       "    .dataframe thead th {\n",
       "        text-align: right;\n",
       "    }\n",
       "</style>\n",
       "<table border=\"1\" class=\"dataframe\">\n",
       "  <thead>\n",
       "    <tr style=\"text-align: right;\">\n",
       "      <th></th>\n",
       "      <th>userID</th>\n",
       "      <th>sentence</th>\n",
       "      <th>nativeLanguage</th>\n",
       "      <th>fluentLanguage</th>\n",
       "      <th>file_url</th>\n",
       "      <th>gender</th>\n",
       "      <th>speaker_id</th>\n",
       "      <th>sentence_id_short</th>\n",
       "      <th>new_filename</th>\n",
       "    </tr>\n",
       "  </thead>\n",
       "  <tbody>\n",
       "    <tr>\n",
       "      <th>0</th>\n",
       "      <td>U2FsdGVkX199GtRKC0wMQsiY7dDBqn3VGWqZanl3ViY7gH...</td>\n",
       "      <td>arctic_b0473</td>\n",
       "      <td>HAUSA</td>\n",
       "      <td>PORTUGUESE</td>\n",
       "      <td>1633373369566_REC1633373367317.wav</td>\n",
       "      <td>M</td>\n",
       "      <td>1242</td>\n",
       "      <td>B0473</td>\n",
       "      <td>HAUSA_PORTUGUESE_1242_M_B0473.wav</td>\n",
       "    </tr>\n",
       "    <tr>\n",
       "      <th>1</th>\n",
       "      <td>U2FsdGVkX18pehkcch3q3J4u/4k+jPHvhO8UgSKH5u7sic...</td>\n",
       "      <td>arctic_a0588</td>\n",
       "      <td>HAUSA</td>\n",
       "      <td>HAUSA</td>\n",
       "      <td>1633466586721_REC1633466576008.wav</td>\n",
       "      <td>M</td>\n",
       "      <td>1243</td>\n",
       "      <td>A0588</td>\n",
       "      <td>HAUSA_HAUSA_1243_M_A0588.wav</td>\n",
       "    </tr>\n",
       "    <tr>\n",
       "      <th>2</th>\n",
       "      <td>U2FsdGVkX18pehkcch3q3J4u/4k+jPHvhO8UgSKH5u7sic...</td>\n",
       "      <td>arctic_a0054</td>\n",
       "      <td>HAUSA</td>\n",
       "      <td>HAUSA</td>\n",
       "      <td>1633466618953_REC1633466611136.wav</td>\n",
       "      <td>M</td>\n",
       "      <td>1243</td>\n",
       "      <td>A0054</td>\n",
       "      <td>HAUSA_HAUSA_1243_M_A0054.wav</td>\n",
       "    </tr>\n",
       "    <tr>\n",
       "      <th>3</th>\n",
       "      <td>U2FsdGVkX18pehkcch3q3J4u/4k+jPHvhO8UgSKH5u7sic...</td>\n",
       "      <td>arctic_b0092</td>\n",
       "      <td>HAUSA</td>\n",
       "      <td>HAUSA</td>\n",
       "      <td>1633466636397_REC1633466629517.wav</td>\n",
       "      <td>M</td>\n",
       "      <td>1243</td>\n",
       "      <td>B0092</td>\n",
       "      <td>HAUSA_HAUSA_1243_M_B0092.wav</td>\n",
       "    </tr>\n",
       "    <tr>\n",
       "      <th>4</th>\n",
       "      <td>U2FsdGVkX18pehkcch3q3J4u/4k+jPHvhO8UgSKH5u7sic...</td>\n",
       "      <td>arctic_a0195</td>\n",
       "      <td>HAUSA</td>\n",
       "      <td>HAUSA</td>\n",
       "      <td>1633466688275_REC1633466682197.wav</td>\n",
       "      <td>M</td>\n",
       "      <td>1243</td>\n",
       "      <td>A0195</td>\n",
       "      <td>HAUSA_HAUSA_1243_M_A0195.wav</td>\n",
       "    </tr>\n",
       "  </tbody>\n",
       "</table>\n",
       "</div>"
      ],
      "text/plain": [
       "                                              userID      sentence  \\\n",
       "0  U2FsdGVkX199GtRKC0wMQsiY7dDBqn3VGWqZanl3ViY7gH...  arctic_b0473   \n",
       "1  U2FsdGVkX18pehkcch3q3J4u/4k+jPHvhO8UgSKH5u7sic...  arctic_a0588   \n",
       "2  U2FsdGVkX18pehkcch3q3J4u/4k+jPHvhO8UgSKH5u7sic...  arctic_a0054   \n",
       "3  U2FsdGVkX18pehkcch3q3J4u/4k+jPHvhO8UgSKH5u7sic...  arctic_b0092   \n",
       "4  U2FsdGVkX18pehkcch3q3J4u/4k+jPHvhO8UgSKH5u7sic...  arctic_a0195   \n",
       "\n",
       "  nativeLanguage fluentLanguage                            file_url gender  \\\n",
       "0          HAUSA     PORTUGUESE  1633373369566_REC1633373367317.wav      M   \n",
       "1          HAUSA          HAUSA  1633466586721_REC1633466576008.wav      M   \n",
       "2          HAUSA          HAUSA  1633466618953_REC1633466611136.wav      M   \n",
       "3          HAUSA          HAUSA  1633466636397_REC1633466629517.wav      M   \n",
       "4          HAUSA          HAUSA  1633466688275_REC1633466682197.wav      M   \n",
       "\n",
       "  speaker_id sentence_id_short                       new_filename  \n",
       "0       1242             B0473  HAUSA_PORTUGUESE_1242_M_B0473.wav  \n",
       "1       1243             A0588       HAUSA_HAUSA_1243_M_A0588.wav  \n",
       "2       1243             A0054       HAUSA_HAUSA_1243_M_A0054.wav  \n",
       "3       1243             B0092       HAUSA_HAUSA_1243_M_B0092.wav  \n",
       "4       1243             A0195       HAUSA_HAUSA_1243_M_A0195.wav  "
      ]
     },
     "execution_count": 11,
     "metadata": {},
     "output_type": "execute_result"
    }
   ],
   "source": [
    "cols = ['nativeLanguage', 'fluentLanguage', 'speaker_id', 'gender', 'sentence_id_short']\n",
    "df_filter['new_filename'] = df_filter[cols].apply(lambda row: f\"{'_'.join(row.values.astype(str))}.wav\", axis=1)\n",
    "df_filter.head()"
   ]
  },
  {
   "cell_type": "code",
   "execution_count": 12,
   "id": "08ae7412",
   "metadata": {},
   "outputs": [
    {
     "data": {
      "text/html": [
       "<div>\n",
       "<style scoped>\n",
       "    .dataframe tbody tr th:only-of-type {\n",
       "        vertical-align: middle;\n",
       "    }\n",
       "\n",
       "    .dataframe tbody tr th {\n",
       "        vertical-align: top;\n",
       "    }\n",
       "\n",
       "    .dataframe thead th {\n",
       "        text-align: right;\n",
       "    }\n",
       "</style>\n",
       "<table border=\"1\" class=\"dataframe\">\n",
       "  <thead>\n",
       "    <tr style=\"text-align: right;\">\n",
       "      <th></th>\n",
       "      <th>sentence</th>\n",
       "      <th>nativeLanguage</th>\n",
       "      <th>fluentLanguage</th>\n",
       "      <th>file_url</th>\n",
       "      <th>gender</th>\n",
       "      <th>speaker_id</th>\n",
       "      <th>new_filename</th>\n",
       "    </tr>\n",
       "  </thead>\n",
       "  <tbody>\n",
       "    <tr>\n",
       "      <th>0</th>\n",
       "      <td>arctic_b0473</td>\n",
       "      <td>HAUSA</td>\n",
       "      <td>PORTUGUESE</td>\n",
       "      <td>1633373369566_REC1633373367317.wav</td>\n",
       "      <td>M</td>\n",
       "      <td>1242</td>\n",
       "      <td>HAUSA_PORTUGUESE_1242_M_B0473.wav</td>\n",
       "    </tr>\n",
       "    <tr>\n",
       "      <th>1</th>\n",
       "      <td>arctic_a0588</td>\n",
       "      <td>HAUSA</td>\n",
       "      <td>HAUSA</td>\n",
       "      <td>1633466586721_REC1633466576008.wav</td>\n",
       "      <td>M</td>\n",
       "      <td>1243</td>\n",
       "      <td>HAUSA_HAUSA_1243_M_A0588.wav</td>\n",
       "    </tr>\n",
       "    <tr>\n",
       "      <th>2</th>\n",
       "      <td>arctic_a0054</td>\n",
       "      <td>HAUSA</td>\n",
       "      <td>HAUSA</td>\n",
       "      <td>1633466618953_REC1633466611136.wav</td>\n",
       "      <td>M</td>\n",
       "      <td>1243</td>\n",
       "      <td>HAUSA_HAUSA_1243_M_A0054.wav</td>\n",
       "    </tr>\n",
       "    <tr>\n",
       "      <th>3</th>\n",
       "      <td>arctic_b0092</td>\n",
       "      <td>HAUSA</td>\n",
       "      <td>HAUSA</td>\n",
       "      <td>1633466636397_REC1633466629517.wav</td>\n",
       "      <td>M</td>\n",
       "      <td>1243</td>\n",
       "      <td>HAUSA_HAUSA_1243_M_B0092.wav</td>\n",
       "    </tr>\n",
       "    <tr>\n",
       "      <th>4</th>\n",
       "      <td>arctic_a0195</td>\n",
       "      <td>HAUSA</td>\n",
       "      <td>HAUSA</td>\n",
       "      <td>1633466688275_REC1633466682197.wav</td>\n",
       "      <td>M</td>\n",
       "      <td>1243</td>\n",
       "      <td>HAUSA_HAUSA_1243_M_A0195.wav</td>\n",
       "    </tr>\n",
       "  </tbody>\n",
       "</table>\n",
       "</div>"
      ],
      "text/plain": [
       "       sentence nativeLanguage fluentLanguage  \\\n",
       "0  arctic_b0473          HAUSA     PORTUGUESE   \n",
       "1  arctic_a0588          HAUSA          HAUSA   \n",
       "2  arctic_a0054          HAUSA          HAUSA   \n",
       "3  arctic_b0092          HAUSA          HAUSA   \n",
       "4  arctic_a0195          HAUSA          HAUSA   \n",
       "\n",
       "                             file_url gender speaker_id  \\\n",
       "0  1633373369566_REC1633373367317.wav      M       1242   \n",
       "1  1633466586721_REC1633466576008.wav      M       1243   \n",
       "2  1633466618953_REC1633466611136.wav      M       1243   \n",
       "3  1633466636397_REC1633466629517.wav      M       1243   \n",
       "4  1633466688275_REC1633466682197.wav      M       1243   \n",
       "\n",
       "                        new_filename  \n",
       "0  HAUSA_PORTUGUESE_1242_M_B0473.wav  \n",
       "1       HAUSA_HAUSA_1243_M_A0588.wav  \n",
       "2       HAUSA_HAUSA_1243_M_A0054.wav  \n",
       "3       HAUSA_HAUSA_1243_M_B0092.wav  \n",
       "4       HAUSA_HAUSA_1243_M_A0195.wav  "
      ]
     },
     "execution_count": 12,
     "metadata": {},
     "output_type": "execute_result"
    }
   ],
   "source": [
    "final_df = df_filter.drop(columns=['userID', \"sentence_id_short\"]).reset_index(drop=True)\n",
    "final_df.head()"
   ]
  },
  {
   "cell_type": "code",
   "execution_count": 13,
   "id": "566eacc4",
   "metadata": {},
   "outputs": [],
   "source": [
    "import matplotlib.pyplot as plt"
   ]
  },
  {
   "cell_type": "code",
   "execution_count": 14,
   "id": "0948aee0",
   "metadata": {},
   "outputs": [
    {
     "data": {
      "text/plain": [
       "Text(0.5, 1.0, 'Sentence ID distribution')"
      ]
     },
     "execution_count": 14,
     "metadata": {},
     "output_type": "execute_result"
    },
    {
     "data": {
      "image/png": "[encoded data removed]",
      "text/plain": [
       "<Figure size 720x576 with 1 Axes>"
      ]
     },
     "metadata": {
      "needs_background": "light"
     },
     "output_type": "display_data"
    }
   ],
   "source": [
    "final_df.sentence.value_counts().plot(kind='bar', figsize=(10, 8), xticks=[])\n",
    "plt.title(\"Sentence ID distribution\")"
   ]
  },
  {
   "cell_type": "code",
   "execution_count": 15,
   "id": "106ed824",
   "metadata": {},
   "outputs": [
    {
     "data": {
      "text/plain": [
       "Text(0.5, 1.0, 'Unique speaker ids')"
      ]
     },
     "execution_count": 15,
     "metadata": {},
     "output_type": "execute_result"
    },
    {
     "data": {
      "image/png": "[encoded data removed]",
      "text/plain": [
       "<Figure size 720x576 with 1 Axes>"
      ]
     },
     "metadata": {
      "needs_background": "light"
     },
     "output_type": "display_data"
    }
   ],
   "source": [
    "final_df.speaker_id.value_counts().plot(kind='bar', figsize=(10, 8))\n",
    "plt.title(\"Unique speaker ids\")"
   ]
  },
  {
   "cell_type": "code",
   "execution_count": 16,
   "id": "32e02587",
   "metadata": {},
   "outputs": [
    {
     "data": {
      "text/plain": [
       "Text(0.5, 1.0, 'Gender distribution')"
      ]
     },
     "execution_count": 16,
     "metadata": {},
     "output_type": "execute_result"
    },
    {
     "data": {
      "image/png": "[encoded data removed]",
      "text/plain": [
       "<Figure size 720x576 with 1 Axes>"
      ]
     },
     "metadata": {
      "needs_background": "light"
     },
     "output_type": "display_data"
    }
   ],
   "source": [
    "final_df.gender.value_counts().plot(kind='bar', figsize=(10, 8))\n",
    "plt.title(\"Gender distribution\")"
   ]
  },
  {
   "cell_type": "code",
   "execution_count": 17,
   "id": "c9870e5d",
   "metadata": {},
   "outputs": [
    {
     "data": {
      "text/plain": [
       "Text(0.5, 1.0, 'Fluent Language distribution')"
      ]
     },
     "execution_count": 17,
     "metadata": {},
     "output_type": "execute_result"
    },
    {
     "data": {
      "image/png": "[encoded data removed]",
      "text/plain": [
       "<Figure size 720x576 with 1 Axes>"
      ]
     },
     "metadata": {
      "needs_background": "light"
     },
     "output_type": "display_data"
    }
   ],
   "source": [
    "final_df.fluentLanguage.value_counts().plot(kind='bar', figsize=(10, 8))\n",
    "plt.title(\"Fluent Language distribution\")"
   ]
  },
  {
   "cell_type": "code",
   "execution_count": 18,
   "id": "a5056978",
   "metadata": {},
   "outputs": [],
   "source": [
    "# Used to rename the files\n",
    "today=\"26032022\"\n",
    "final_df.loc[:, ['file_url', 'new_filename']].to_csv(f'sautidb_hausa_{today}_filename_newname.csv', index=None, header=False)\n"
   ]
  },
  {
   "cell_type": "code",
   "execution_count": null,
   "id": "974ddb74",
   "metadata": {},
   "outputs": [],
   "source": []
  }
 ],
 "metadata": {
  "kernelspec": {
   "display_name": "Python 3 (ipykernel)",
   "language": "python",
   "name": "python3"
  },
  "language_info": {
   "codemirror_mode": {
    "name": "ipython",
    "version": 3
   },
   "file_extension": ".py",
   "mimetype": "text/x-python",
   "name": "python",
   "nbconvert_exporter": "python",
   "pygments_lexer": "ipython3",
   "version": "3.8.0"
  }
 },
 "nbformat": 4,
 "nbformat_minor": 5
}
